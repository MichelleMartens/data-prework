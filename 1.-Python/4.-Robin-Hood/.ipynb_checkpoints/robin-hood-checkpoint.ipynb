{
 "cells": [
  {
   "cell_type": "markdown",
   "metadata": {},
   "source": [
    "<img src=\"https://bit.ly/2VnXWr2\" width=\"100\" align=\"left\"/>"
   ]
  },
  {
   "cell_type": "markdown",
   "metadata": {},
   "source": [
    "# Robin Hood\n",
    "Robin Hood has entered a competition to win the archery contest in Sherwood. With his bow and arrows, he needs to shoot on a target and try to hit as close as possible to the center.\n",
    "\n",
    "![](images/arrows.jpg)\n",
    "\n",
    "## Context\n",
    "In this challenge, the landing position of arrows shot by archers in the competition will be represented using 2-dimensional coordinates. \n",
    "\n",
    "In the 2-dimensional space, a point can be defined by a pair of values that correspond to the horizontal coordinate (x) and the vertical coordinate (y). For example, in our case, an arrow that hits the center of the archery target will land in position (0, 0) on the coordinate axes. \n",
    "\n",
    "The space can be divided into 4 zones (quadrants): Q1, Q2, Q3, Q4. If a point is in Q1, both its x coordinate and y coordinate are positive. Any point with a null x or y coordinate is considered to not belong to any quadrant. \n",
    "\n",
    "If you want to know more about the cartesian coordinate system, you can check this [link](https://en.wikipedia.org/wiki/Cartesian_coordinate_system). \n",
    "\n",
    "## Tools\n",
    "You don't necessarily need to use all the tools. Maybe you opt to use some of them or completely different ones, they are given to help you shape the exercise. Programming exercises can be solved in many different ways.\n",
    "* Data structures: **lists, sets, tuples**\n",
    "* Conditional statements: **if-elif-else**\n",
    "* Loop: **while/for**\n",
    "* Minimum (optional sorting)\n",
    "\n",
    "## Tasks\n",
    "Robin Hood has hit the following points:"
   ]
  },
  {
   "cell_type": "code",
   "execution_count": 148,
   "metadata": {
    "scrolled": true
   },
   "outputs": [
    {
     "name": "stdout",
     "output_type": "stream",
     "text": [
      "{(-4, 5), (4, 7), (3, 2), (4, 5), (-1, 3), (5, 7), (9, 9), (3, -2), (-5, 7), (-3, 2), (0, -2), (-4, -5), (2, 2), (-8, -9), (1, -3), (-4, 7), (0, 2)}\n"
     ]
    }
   ],
   "source": [
    "points = [(4, 5), (-0, 2), (4, 7), (1, -3), (3, -2), (4, 5), (3, 2), (5, 7), (-5, 7), (2, 2), (-4, 5), (0, -2),\n",
    "          (-4, 7), (-1, 3), (-3, 2), (-4, -5), (-3, 2), (5, 7), (5, 7), (2, 2), (9, 9), (-8, -9)]\n",
    "\n",
    "\n",
    "new_points = set(points)\n",
    "print(new_points)\n",
    "\n",
    "# dubbels\n",
    "# 4, 5\n",
    "# -3 ,2\n",
    "# 5, 7\n",
    "# 2, 2\n",
    "\n"
   ]
  },
  {
   "cell_type": "markdown",
   "metadata": {},
   "source": [
    "1. Robin Hood is famous for hitting an arrow with another arrow. Find the coordinates of the points where an arrow hits another arrow."
   ]
  },
  {
   "cell_type": "code",
   "execution_count": 90,
   "metadata": {},
   "outputs": [
    {
     "name": "stdout",
     "output_type": "stream",
     "text": [
      "[(4, 5), (5, 7), (-3, 2), (2, 2)]\n"
     ]
    }
   ],
   "source": [
    "result = list(set([element for element in points if points.count(element) > 1]))\n",
    "\n",
    "print(str(result))\n",
    "        "
   ]
  },
  {
   "cell_type": "code",
   "execution_count": 91,
   "metadata": {},
   "outputs": [],
   "source": [
    "# hits = 0\n",
    "# hit = set()\n",
    "# arrow_hits_arrow = []\n",
    "\n",
    "# for element in points:\n",
    "#     if element not in new_points:\n",
    "#         arrow_hits_arrow.append(element)\n",
    "#         hit.add(element)\n",
    "\n",
    "\n",
    "# new_points = set()\n",
    "\n",
    "# for element in points:\n",
    "#     if element in points.count(element)> 1:\n",
    "#         new_points.append(element)\n",
    "    \n",
    "# print(new_points)"
   ]
  },
  {
   "cell_type": "markdown",
   "metadata": {},
   "source": [
    "2. Calculate how many arrows have fallen in each quadrant. \n",
    "**Note**: the arrows that fall in the axis (x=0 or y=0) don't belong to any quadrant."
   ]
  },
  {
   "cell_type": "code",
   "execution_count": 195,
   "metadata": {},
   "outputs": [
    {
     "name": "stdout",
     "output_type": "stream",
     "text": [
      "[1, -3, 3, -2]\n"
     ]
    }
   ],
   "source": [
    "# quadrant_1 = []\n",
    "\n",
    "# for sub in points:\n",
    "#     for element in sub:\n",
    "#         if element in sub >=0:\n",
    "#             quadrant_1.append(sub)   \n",
    "#     print(quadrant_1)\n",
    "\n",
    "quadrant_1 = [coordinates for coordinates in points if all(elements > 0 for elements in coordinates)]\n",
    "\n",
    "quadrant_2 = [coordinates for coordinates in points if all(elements < 0 for elements in coordinates)]\n",
    "\n",
    "# quadrant_3 = [coordinates for coordinates in points if all(x < 0 , y > 0 for x, y in coordinates)]\n",
    "    \n",
    "\n",
    "quadrant_3 = []\n",
    "\n",
    "# for x, y in points:\n",
    "#     if x < 0:\n",
    "#         quadrant_3.append(x)\n",
    "#     elif y > 0:\n",
    "#         quadrant_3.append(y)\n",
    "        \n",
    "# for x, y in points:\n",
    "#     if x > 0 and y < 0:\n",
    "#         quadrant_3.append(x)\n",
    "#         quadrant_3.append(y)\n",
    "        \n",
    "# for x, y in points:\n",
    "#     if x > 0 and y < 0:\n",
    "#         quadrant_3 += x,y\n",
    "        \n",
    "# for x, y in points:\n",
    "#     if x > 0 and y < 0 in coordinates:\n",
    "#         quadrant_3.append(coordinates)\n",
    "        \n",
    "\n",
    "# for coordinates in points:\n",
    "#     for x, y in coordinates:\n",
    "#      \n",
    "\n",
    "print(quadrant_3)\n",
    "        \n",
    "\n",
    "# quadrant_4 = [sub for sub in points if (x > 0 and y < 0 for x,y in sub)]\n",
    "              \n",
    "\n",
    "\n",
    "\n",
    "# print(quadrant_1)\n",
    "# print()\n",
    "# print(quadrant_2)\n",
    "# print()\n",
    "# print(quadrant_3)\n",
    "# print()\n",
    "# print(quadrant_4)\n",
    "\n",
    "\n",
    "\n",
    "    "
   ]
  },
  {
   "cell_type": "markdown",
   "metadata": {},
   "source": [
    "#### 3. Find the point closest to the center. Calculate its distance to the center. \n",
    "Take into account that there might be more than one point at the minimum distance to the center.\n",
    "\n",
    "**Hint**: Use the Euclidean distance. You can find more information about it [here](https://en.wikipedia.org/wiki/Euclidean_distance).  \n",
    "**Hint**: Defining a function that calculates the distance to the center can help."
   ]
  },
  {
   "cell_type": "code",
   "execution_count": null,
   "metadata": {},
   "outputs": [],
   "source": []
  },
  {
   "cell_type": "markdown",
   "metadata": {},
   "source": [
    "#### 4. If the archery target has a radius of 9, calculate the number of arrows that won't hit the target. \n",
    "**Hint**: Use the function created in step 3. "
   ]
  },
  {
   "cell_type": "code",
   "execution_count": null,
   "metadata": {},
   "outputs": [],
   "source": []
  }
 ],
 "metadata": {
  "kernelspec": {
   "display_name": "Python 3",
   "language": "python",
   "name": "python3"
  },
  "language_info": {
   "codemirror_mode": {
    "name": "ipython",
    "version": 3
   },
   "file_extension": ".py",
   "mimetype": "text/x-python",
   "name": "python",
   "nbconvert_exporter": "python",
   "pygments_lexer": "ipython3",
   "version": "3.7.0"
  }
 },
 "nbformat": 4,
 "nbformat_minor": 2
}
